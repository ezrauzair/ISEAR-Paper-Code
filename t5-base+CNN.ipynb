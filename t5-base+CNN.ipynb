{
 "cells": [
  {
   "cell_type": "code",
   "execution_count": 1,
   "metadata": {
    "execution": {
     "iopub.execute_input": "2024-09-14T16:08:11.812813Z",
     "iopub.status.busy": "2024-09-14T16:08:11.812451Z",
     "iopub.status.idle": "2024-09-14T16:45:54.445238Z",
     "shell.execute_reply": "2024-09-14T16:45:54.444349Z",
     "shell.execute_reply.started": "2024-09-14T16:08:11.812776Z"
    },
    "trusted": true
   },
   "outputs": [
    {
     "data": {
      "application/vnd.jupyter.widget-view+json": {
       "model_id": "fa7b4c800e434bbcac798ccf20175b1d",
       "version_major": 2,
       "version_minor": 0
      },
      "text/plain": [
       "config.json:   0%|          | 0.00/1.21k [00:00<?, ?B/s]"
      ]
     },
     "metadata": {},
     "output_type": "display_data"
    },
    {
     "data": {
      "application/vnd.jupyter.widget-view+json": {
       "model_id": "fd9e0ca370264941837323a671c3b9f3",
       "version_major": 2,
       "version_minor": 0
      },
      "text/plain": [
       "spiece.model:   0%|          | 0.00/792k [00:00<?, ?B/s]"
      ]
     },
     "metadata": {},
     "output_type": "display_data"
    },
    {
     "data": {
      "application/vnd.jupyter.widget-view+json": {
       "model_id": "b80d9022dfe6426ba1e3ff510703e5a2",
       "version_major": 2,
       "version_minor": 0
      },
      "text/plain": [
       "tokenizer.json:   0%|          | 0.00/1.39M [00:00<?, ?B/s]"
      ]
     },
     "metadata": {},
     "output_type": "display_data"
    },
    {
     "name": "stderr",
     "output_type": "stream",
     "text": [
      "/opt/conda/lib/python3.10/site-packages/transformers/tokenization_utils_base.py:1601: FutureWarning: `clean_up_tokenization_spaces` was not set. It will be set to `True` by default. This behavior will be depracted in transformers v4.45, and will be then set to `False` by default. For more details check this issue: https://github.com/huggingface/transformers/issues/31884\n",
      "  warnings.warn(\n"
     ]
    },
    {
     "data": {
      "application/vnd.jupyter.widget-view+json": {
       "model_id": "d67706b3644b455689323fe6cffddb26",
       "version_major": 2,
       "version_minor": 0
      },
      "text/plain": [
       "model.safetensors:   0%|          | 0.00/892M [00:00<?, ?B/s]"
      ]
     },
     "metadata": {},
     "output_type": "display_data"
    },
    {
     "name": "stderr",
     "output_type": "stream",
     "text": [
      "Epoch 1/10: 100%|██████████| 1804/1804 [03:29<00:00,  8.60batch/s, Avg Loss=1.76]\n"
     ]
    },
    {
     "name": "stdout",
     "output_type": "stream",
     "text": [
      "Epoch [1/10] - Avg Loss: 1.7638\n",
      "Epoch [1/10] - Accuracy on Test Data: 0.5882\n"
     ]
    },
    {
     "name": "stderr",
     "output_type": "stream",
     "text": [
      "Epoch 2/10: 100%|██████████| 1804/1804 [03:28<00:00,  8.66batch/s, Avg Loss=1.06]\n"
     ]
    },
    {
     "name": "stdout",
     "output_type": "stream",
     "text": [
      "Epoch [2/10] - Avg Loss: 1.0580\n",
      "Epoch [2/10] - Accuracy on Test Data: 0.6755\n"
     ]
    },
    {
     "name": "stderr",
     "output_type": "stream",
     "text": [
      "Epoch 3/10: 100%|██████████| 1804/1804 [03:28<00:00,  8.66batch/s, Avg Loss=0.822]\n"
     ]
    },
    {
     "name": "stdout",
     "output_type": "stream",
     "text": [
      "Epoch [3/10] - Avg Loss: 0.8220\n",
      "Epoch [3/10] - Accuracy on Test Data: 0.7097\n"
     ]
    },
    {
     "name": "stderr",
     "output_type": "stream",
     "text": [
      "Epoch 4/10: 100%|██████████| 1804/1804 [03:28<00:00,  8.65batch/s, Avg Loss=0.701]\n"
     ]
    },
    {
     "name": "stdout",
     "output_type": "stream",
     "text": [
      "Epoch [4/10] - Avg Loss: 0.7010\n",
      "Epoch [4/10] - Accuracy on Test Data: 0.7387\n"
     ]
    },
    {
     "name": "stderr",
     "output_type": "stream",
     "text": [
      "Epoch 5/10: 100%|██████████| 1804/1804 [03:28<00:00,  8.65batch/s, Avg Loss=0.611]\n"
     ]
    },
    {
     "name": "stdout",
     "output_type": "stream",
     "text": [
      "Epoch [5/10] - Avg Loss: 0.6111\n",
      "Epoch [5/10] - Accuracy on Test Data: 0.7654\n"
     ]
    },
    {
     "name": "stderr",
     "output_type": "stream",
     "text": [
      "Epoch 6/10: 100%|██████████| 1804/1804 [03:28<00:00,  8.66batch/s, Avg Loss=0.523]\n"
     ]
    },
    {
     "name": "stdout",
     "output_type": "stream",
     "text": [
      "Epoch [6/10] - Avg Loss: 0.5226\n",
      "Epoch [6/10] - Accuracy on Test Data: 0.7835\n"
     ]
    },
    {
     "name": "stderr",
     "output_type": "stream",
     "text": [
      "Epoch 7/10: 100%|██████████| 1804/1804 [03:28<00:00,  8.66batch/s, Avg Loss=0.451]\n"
     ]
    },
    {
     "name": "stdout",
     "output_type": "stream",
     "text": [
      "Epoch [7/10] - Avg Loss: 0.4511\n",
      "Epoch [7/10] - Accuracy on Test Data: 0.8048\n"
     ]
    },
    {
     "name": "stderr",
     "output_type": "stream",
     "text": [
      "Epoch 8/10: 100%|██████████| 1804/1804 [03:28<00:00,  8.67batch/s, Avg Loss=0.385]\n"
     ]
    },
    {
     "name": "stdout",
     "output_type": "stream",
     "text": [
      "Epoch [8/10] - Avg Loss: 0.3845\n",
      "Epoch [8/10] - Accuracy on Test Data: 0.8164\n"
     ]
    },
    {
     "name": "stderr",
     "output_type": "stream",
     "text": [
      "Epoch 9/10: 100%|██████████| 1804/1804 [03:28<00:00,  8.66batch/s, Avg Loss=0.321]\n"
     ]
    },
    {
     "name": "stdout",
     "output_type": "stream",
     "text": [
      "Epoch [9/10] - Avg Loss: 0.3206\n",
      "Epoch [9/10] - Accuracy on Test Data: 0.8370\n"
     ]
    },
    {
     "name": "stderr",
     "output_type": "stream",
     "text": [
      "Epoch 10/10: 100%|██████████| 1804/1804 [03:28<00:00,  8.66batch/s, Avg Loss=0.271]\n"
     ]
    },
    {
     "name": "stdout",
     "output_type": "stream",
     "text": [
      "Epoch [10/10] - Avg Loss: 0.2714\n",
      "Epoch [10/10] - Accuracy on Test Data: 0.8481\n"
     ]
    },
    {
     "data": {
      "image/png": "[encoded data removed]",
      "text/plain": [
       "<Figure size 1200x500 with 2 Axes>"
      ]
     },
     "metadata": {},
     "output_type": "display_data"
    },
    {
     "name": "stderr",
     "output_type": "stream",
     "text": [
      "Evaluating: 100%|██████████| 451/451 [00:14<00:00, 30.82it/s]"
     ]
    },
    {
     "name": "stdout",
     "output_type": "stream",
     "text": [
      "\n",
      "Overall Performance Metrics:\n",
      "\n",
      "              precision    recall  f1-score   support\n",
      "\n",
      "           0       0.88      0.75      0.81       628\n",
      "           1       0.80      0.87      0.84       662\n",
      "           2       0.85      0.89      0.87       636\n",
      "           3       0.77      0.79      0.78       630\n",
      "           4       0.92      0.88      0.90       646\n",
      "           5       0.92      0.95      0.93       678\n",
      "           6       0.80      0.81      0.81       629\n",
      "\n",
      "    accuracy                           0.85      4509\n",
      "   macro avg       0.85      0.85      0.85      4509\n",
      "weighted avg       0.85      0.85      0.85      4509\n",
      "\n",
      "\n",
      "Overall Accuracy: 0.8481\n",
      "\n",
      "\n",
      "Per-Class Performance:\n",
      "\n",
      "Class 0: Accuracy = 0.7468\n",
      "Class 1: Accuracy = 0.8716\n",
      "Class 2: Accuracy = 0.8868\n",
      "Class 3: Accuracy = 0.7857\n",
      "Class 4: Accuracy = 0.8762\n",
      "Class 5: Accuracy = 0.9469\n",
      "Class 6: Accuracy = 0.8124\n"
     ]
    },
    {
     "name": "stderr",
     "output_type": "stream",
     "text": [
      "\n"
     ]
    }
   ],
   "source": [
    "import pandas as pd\n",
    "import torch\n",
    "import torch.nn as nn\n",
    "import matplotlib.pyplot as plt\n",
    "from sklearn.model_selection import train_test_split\n",
    "from torch.utils.data import DataLoader, TensorDataset\n",
    "from tqdm import tqdm\n",
    "from transformers import AutoTokenizer, AutoModel\n",
    "from sklearn.metrics import confusion_matrix, classification_report, accuracy_score\n",
    "import torch.nn.functional as F\n",
    "\n",
    "# Custom Model Definition with T5 Encoder and CNN layer\n",
    "class T5WithCNNForClassification(nn.Module):\n",
    "    def __init__(self, base_model_name, num_labels):\n",
    "        super(T5WithCNNForClassification, self).__init__()\n",
    "        self.t5 = AutoModel.from_pretrained(base_model_name)\n",
    "        hidden_size = self.t5.config.d_model\n",
    "        \n",
    "        # Convolutional layers\n",
    "        self.conv1 = nn.Conv1d(in_channels=hidden_size, out_channels=128, kernel_size=3, padding=1)\n",
    "        self.conv2 = nn.Conv1d(in_channels=128, out_channels=256, kernel_size=3, padding=1)\n",
    "        self.pool = nn.MaxPool1d(kernel_size=2)\n",
    "        \n",
    "        # Fully connected layer for classification\n",
    "        self.fc = nn.Linear(256, num_labels)\n",
    "    \n",
    "    def forward(self, input_ids, attention_mask, labels=None):\n",
    "        # Using the encoder part of T5\n",
    "        outputs = self.t5.encoder(input_ids=input_ids, attention_mask=attention_mask)\n",
    "        encoder_hidden_states = outputs.last_hidden_state  # Shape: [batch_size, seq_len, hidden_size]\n",
    "        \n",
    "        # Apply CNN layers\n",
    "        encoder_hidden_states = encoder_hidden_states.permute(0, 2, 1)  # Change to [batch_size, hidden_size, seq_len] for CNN\n",
    "        x = F.relu(self.conv1(encoder_hidden_states))  # Apply first CNN layer\n",
    "        x = self.pool(x)  # Apply pooling\n",
    "        x = F.relu(self.conv2(x))  # Apply second CNN layer\n",
    "        x = self.pool(x)  # Apply pooling\n",
    "        \n",
    "        # Global max pooling over the sequence length dimension\n",
    "        x = torch.max(x, dim=2)[0]  # Shape: [batch_size, 256]\n",
    "        \n",
    "        # Classification layer\n",
    "        logits = self.fc(x)\n",
    "        \n",
    "        if labels is not None:\n",
    "            loss = F.cross_entropy(logits, labels)\n",
    "            return {\"loss\": loss, \"logits\": logits}\n",
    "        else:\n",
    "            return {\"logits\": logits}\n",
    "\n",
    "# Load the tokenizer\n",
    "tokenizer = AutoTokenizer.from_pretrained(\"t5-base\")\n",
    "\n",
    "# Load dataset\n",
    "df = pd.read_excel('/kaggle/input/combineddataset/combined dataset.xlsx')\n",
    "\n",
    "# Split dataset\n",
    "Comment_train, Comment_test, Label_train, Label_test = train_test_split(df['content'], df['labels'], test_size=0.2, random_state=18)\n",
    "\n",
    "# Tokenize the data\n",
    "encodedata_train = tokenizer.batch_encode_plus(\n",
    "    Comment_train.astype(str).tolist(),\n",
    "    add_special_tokens=True,\n",
    "    return_attention_mask=True,\n",
    "    max_length=100,\n",
    "    return_tensors='pt',\n",
    "    padding='max_length',\n",
    "    truncation=True\n",
    ")\n",
    "\n",
    "encodedata_test = tokenizer.batch_encode_plus(\n",
    "    Comment_test.astype(str).tolist(),\n",
    "    add_special_tokens=True,\n",
    "    return_attention_mask=True,\n",
    "    max_length=100,\n",
    "    return_tensors='pt',\n",
    "    padding='max_length',\n",
    "    truncation=True\n",
    ")\n",
    "\n",
    "# Prepare data for DataLoader\n",
    "input_ids_train = encodedata_train['input_ids']\n",
    "attention_masks_train = encodedata_train['attention_mask']\n",
    "labels_train = torch.tensor(Label_train.to_numpy(), dtype=torch.long)\n",
    "\n",
    "input_ids_test = encodedata_test['input_ids']\n",
    "attention_masks_test = encodedata_test['attention_mask']\n",
    "labels_test = torch.tensor(Label_test.to_numpy(), dtype=torch.long)\n",
    "\n",
    "tensordataset_train = TensorDataset(input_ids_train, attention_masks_train, labels_train)\n",
    "tensordataset_test = TensorDataset(input_ids_test, attention_masks_test, labels_test)\n",
    "\n",
    "train_loader = DataLoader(tensordataset_train, batch_size=10, shuffle=True)\n",
    "test_loader = DataLoader(tensordataset_test, batch_size=10, shuffle=False)\n",
    "\n",
    "# Define model, loss function, and optimizer\n",
    "model = T5WithCNNForClassification(base_model_name=\"t5-base\", num_labels=7)\n",
    "device = torch.device(\"cuda\" if torch.cuda.is_available() else \"cpu\")\n",
    "model.to(device)\n",
    "\n",
    "optimizer = torch.optim.Adam(model.parameters(), lr=1e-5)\n",
    "\n",
    "# Training loop\n",
    "num_epochs = 10\n",
    "train_losses = []\n",
    "test_accuracies = []\n",
    "\n",
    "for epoch in range(num_epochs):\n",
    "    model.train()\n",
    "    total_loss = 0.0\n",
    "    \n",
    "    progress_bar = tqdm(train_loader, desc=f'Epoch {epoch + 1}/{num_epochs}', unit='batch')\n",
    "    for batch in progress_bar:\n",
    "        batch = tuple(t.to(device) for t in batch)\n",
    "        input_ids, attention_masks, labels = batch\n",
    "        optimizer.zero_grad()\n",
    "        \n",
    "        outputs = model(input_ids, attention_mask=attention_masks, labels=labels)\n",
    "        loss = outputs['loss']\n",
    "        loss.backward()\n",
    "        optimizer.step()\n",
    "\n",
    "        total_loss += loss.item()\n",
    "        avg_loss = total_loss / (progress_bar.n + 1)\n",
    "        progress_bar.set_postfix({'Avg Loss': avg_loss})\n",
    "\n",
    "    train_losses.append(avg_loss)\n",
    "    print(f\"Epoch [{epoch + 1}/{num_epochs}] - Avg Loss: {avg_loss:.4f}\")\n",
    "\n",
    "    # Evaluation\n",
    "    model.eval()\n",
    "    total_correct = 0\n",
    "    total_samples = 0\n",
    "    all_preds = []\n",
    "    all_labels = []\n",
    "\n",
    "    with torch.no_grad():\n",
    "        for batch in test_loader:\n",
    "            input_ids, attention_masks, labels = batch\n",
    "            input_ids, attention_masks, labels = input_ids.to(device), attention_masks.to(device), labels.to(device)\n",
    "            outputs = model(input_ids, attention_mask=attention_masks)\n",
    "            _, predicted = torch.max(outputs['logits'], 1)\n",
    "\n",
    "            total_correct += (predicted == labels).sum().item()\n",
    "            total_samples += labels.size(0)\n",
    "\n",
    "            all_preds.extend(predicted.cpu().numpy())\n",
    "            all_labels.extend(labels.cpu().numpy())\n",
    "\n",
    "    accuracy = total_correct / total_samples if total_samples > 0 else 0\n",
    "    test_accuracies.append(accuracy)\n",
    "    print(f'Epoch [{epoch + 1}/{num_epochs}] - Accuracy on Test Data: {accuracy:.4f}')\n",
    "\n",
    "# Plotting Loss and Accuracy graphs\n",
    "epochs_range = range(1, num_epochs + 1)\n",
    "\n",
    "plt.figure(figsize=(12, 5))\n",
    "\n",
    "# Loss graph\n",
    "plt.subplot(1, 2, 1)\n",
    "plt.plot(epochs_range, train_losses, label='Training Loss')\n",
    "plt.xlabel('Epochs')\n",
    "plt.ylabel('Loss')\n",
    "plt.title('Training Loss')\n",
    "plt.legend()\n",
    "\n",
    "# Accuracy graph\n",
    "plt.subplot(1, 2, 2)\n",
    "plt.plot(epochs_range, test_accuracies, label='Test Accuracy', color='orange')\n",
    "plt.xlabel('Epochs')\n",
    "plt.ylabel('Accuracy')\n",
    "plt.title('Test Accuracy')\n",
    "plt.legend()\n",
    "\n",
    "plt.tight_layout()\n",
    "plt.show()\n",
    "\n",
    "# Detailed Performance Metrics Evaluation\n",
    "model.eval()\n",
    "all_preds = []\n",
    "all_labels = []\n",
    "\n",
    "with torch.no_grad():\n",
    "    for batch in tqdm(test_loader, desc=\"Evaluating\"):\n",
    "        input_ids, attention_masks, labels = batch\n",
    "        input_ids, attention_masks, labels = input_ids.to(device), attention_masks.to(device), labels.to(device)\n",
    "\n",
    "        outputs = model(input_ids, attention_mask=attention_masks)\n",
    "        logits = outputs['logits']\n",
    "        _, preds = torch.max(logits, dim=1)\n",
    "\n",
    "        all_preds.extend(preds.cpu().numpy())\n",
    "        all_labels.extend(labels.cpu().numpy())\n",
    "\n",
    "# Performance metrics\n",
    "conf_matrix = confusion_matrix(all_labels, all_preds)\n",
    "class_report = classification_report(all_labels, all_preds, labels=list(range(7)), zero_division=1)\n",
    "accuracy = accuracy_score(all_labels, all_preds)\n",
    "\n",
    "print(\"\\nOverall Performance Metrics:\\n\")\n",
    "print(class_report)\n",
    "print(f\"\\nOverall Accuracy: {accuracy:.4f}\\n\")\n",
    "\n",
    "# Per-class performance\n",
    "print(\"\\nPer-Class Performance:\\n\")\n",
    "for i in range(7):  # Adjust number of classes accordingly\n",
    "    class_accuracy = conf_matrix[i, i] / conf_matrix[i, :].sum() if conf_matrix[i, :].sum() > 0 else 0\n",
    "    print(f\"Class {i}: Accuracy = {class_accuracy:.4f}\")\n"
   ]
  },
  {
   "cell_type": "markdown",
   "metadata": {},
   "source": [
    "##### "
   ]
  }
 ],
 "metadata": {
  "kaggle": {
   "accelerator": "gpu",
   "dataSources": [
    {
     "datasetId": 5699228,
     "sourceId": 9391597,
     "sourceType": "datasetVersion"
    }
   ],
   "dockerImageVersionId": 30762,
   "isGpuEnabled": true,
   "isInternetEnabled": true,
   "language": "python",
   "sourceType": "notebook"
  },
  "kernelspec": {
   "display_name": "Python 3",
   "language": "python",
   "name": "python3"
  },
  "language_info": {
   "codemirror_mode": {
    "name": "ipython",
    "version": 3
   },
   "file_extension": ".py",
   "mimetype": "text/x-python",
   "name": "python",
   "nbconvert_exporter": "python",
   "pygments_lexer": "ipython3",
   "version": "3.10.14"
  }
 },
 "nbformat": 4,
 "nbformat_minor": 4
}
