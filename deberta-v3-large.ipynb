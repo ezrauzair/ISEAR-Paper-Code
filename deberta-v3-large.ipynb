{
 "cells": [
  {
   "cell_type": "code",
   "execution_count": 1,
   "metadata": {
    "_cell_guid": "b1076dfc-b9ad-4769-8c92-a6c4dae69d19",
    "_uuid": "8f2839f25d086af736a60e9eeb907d3b93b6e0e5",
    "execution": {
     "iopub.execute_input": "2024-09-14T06:09:35.040715Z",
     "iopub.status.busy": "2024-09-14T06:09:35.040261Z",
     "iopub.status.idle": "2024-09-14T08:47:10.210640Z",
     "shell.execute_reply": "2024-09-14T08:47:10.209627Z",
     "shell.execute_reply.started": "2024-09-14T06:09:35.040667Z"
    },
    "trusted": true
   },
   "outputs": [
    {
     "data": {
      "application/vnd.jupyter.widget-view+json": {
       "model_id": "ad4f2492e62c4746bddc2b208bd83d06",
       "version_major": 2,
       "version_minor": 0
      },
      "text/plain": [
       "config.json:   0%|          | 0.00/580 [00:00<?, ?B/s]"
      ]
     },
     "metadata": {},
     "output_type": "display_data"
    },
    {
     "data": {
      "application/vnd.jupyter.widget-view+json": {
       "model_id": "04539eba01a4425b94587a8686e55f77",
       "version_major": 2,
       "version_minor": 0
      },
      "text/plain": [
       "pytorch_model.bin:   0%|          | 0.00/874M [00:00<?, ?B/s]"
      ]
     },
     "metadata": {},
     "output_type": "display_data"
    },
    {
     "name": "stderr",
     "output_type": "stream",
     "text": [
      "Some weights of DebertaV2ForSequenceClassification were not initialized from the model checkpoint at microsoft/deberta-v3-large and are newly initialized: ['classifier.bias', 'classifier.weight', 'pooler.dense.bias', 'pooler.dense.weight']\n",
      "You should probably TRAIN this model on a down-stream task to be able to use it for predictions and inference.\n"
     ]
    },
    {
     "data": {
      "application/vnd.jupyter.widget-view+json": {
       "model_id": "540aeb51fd3f427386bda61d49ed0077",
       "version_major": 2,
       "version_minor": 0
      },
      "text/plain": [
       "tokenizer_config.json:   0%|          | 0.00/52.0 [00:00<?, ?B/s]"
      ]
     },
     "metadata": {},
     "output_type": "display_data"
    },
    {
     "data": {
      "application/vnd.jupyter.widget-view+json": {
       "model_id": "f2656e85b6d64d399def060a6c546662",
       "version_major": 2,
       "version_minor": 0
      },
      "text/plain": [
       "spm.model:   0%|          | 0.00/2.46M [00:00<?, ?B/s]"
      ]
     },
     "metadata": {},
     "output_type": "display_data"
    },
    {
     "name": "stderr",
     "output_type": "stream",
     "text": [
      "/opt/conda/lib/python3.10/site-packages/transformers/tokenization_utils_base.py:1601: FutureWarning: `clean_up_tokenization_spaces` was not set. It will be set to `True` by default. This behavior will be depracted in transformers v4.45, and will be then set to `False` by default. For more details check this issue: https://github.com/huggingface/transformers/issues/31884\n",
      "  warnings.warn(\n",
      "/opt/conda/lib/python3.10/site-packages/transformers/convert_slow_tokenizer.py:551: UserWarning: The sentencepiece tokenizer that you are converting to a fast tokenizer uses the byte fallback option which is not implemented in the fast tokenizers. In practice this means that the fast version of the tokenizer can produce unknown tokens whereas the sentencepiece version would have converted these unknown tokens into a sequence of byte tokens matching the original piece of text.\n",
      "  warnings.warn(\n",
      "Epoch 1/10: 100%|██████████| 1804/1804 [14:37<00:00,  2.06batch/s, Avg Loss=0.927]\n"
     ]
    },
    {
     "name": "stdout",
     "output_type": "stream",
     "text": [
      "Epoch [1/10] - Avg Loss: 0.9275\n",
      "Epoch [1/10] - Accuracy on Test Data: 0.8020\n"
     ]
    },
    {
     "name": "stderr",
     "output_type": "stream",
     "text": [
      "Epoch 2/10: 100%|██████████| 1804/1804 [14:37<00:00,  2.06batch/s, Avg Loss=0.424]\n"
     ]
    },
    {
     "name": "stdout",
     "output_type": "stream",
     "text": [
      "Epoch [2/10] - Avg Loss: 0.4244\n",
      "Epoch [2/10] - Accuracy on Test Data: 0.8660\n"
     ]
    },
    {
     "name": "stderr",
     "output_type": "stream",
     "text": [
      "Epoch 3/10: 100%|██████████| 1804/1804 [14:37<00:00,  2.06batch/s, Avg Loss=0.211]\n"
     ]
    },
    {
     "name": "stdout",
     "output_type": "stream",
     "text": [
      "Epoch [3/10] - Avg Loss: 0.2109\n",
      "Epoch [3/10] - Accuracy on Test Data: 0.9230\n"
     ]
    },
    {
     "name": "stderr",
     "output_type": "stream",
     "text": [
      "Epoch 4/10: 100%|██████████| 1804/1804 [14:36<00:00,  2.06batch/s, Avg Loss=0.118]\n"
     ]
    },
    {
     "name": "stdout",
     "output_type": "stream",
     "text": [
      "Epoch [4/10] - Avg Loss: 0.1176\n",
      "Epoch [4/10] - Accuracy on Test Data: 0.9219\n"
     ]
    },
    {
     "name": "stderr",
     "output_type": "stream",
     "text": [
      "Epoch 5/10: 100%|██████████| 1804/1804 [14:34<00:00,  2.06batch/s, Avg Loss=0.0798]\n"
     ]
    },
    {
     "name": "stdout",
     "output_type": "stream",
     "text": [
      "Epoch [5/10] - Avg Loss: 0.0798\n",
      "Epoch [5/10] - Accuracy on Test Data: 0.9253\n"
     ]
    },
    {
     "name": "stderr",
     "output_type": "stream",
     "text": [
      "Epoch 6/10: 100%|██████████| 1804/1804 [14:33<00:00,  2.06batch/s, Avg Loss=0.0661]\n"
     ]
    },
    {
     "name": "stdout",
     "output_type": "stream",
     "text": [
      "Epoch [6/10] - Avg Loss: 0.0661\n",
      "Epoch [6/10] - Accuracy on Test Data: 0.9399\n"
     ]
    },
    {
     "name": "stderr",
     "output_type": "stream",
     "text": [
      "Epoch 7/10: 100%|██████████| 1804/1804 [14:34<00:00,  2.06batch/s, Avg Loss=0.0553]\n"
     ]
    },
    {
     "name": "stdout",
     "output_type": "stream",
     "text": [
      "Epoch [7/10] - Avg Loss: 0.0553\n",
      "Epoch [7/10] - Accuracy on Test Data: 0.9210\n"
     ]
    },
    {
     "name": "stderr",
     "output_type": "stream",
     "text": [
      "Epoch 8/10: 100%|██████████| 1804/1804 [14:33<00:00,  2.06batch/s, Avg Loss=0.0478]\n"
     ]
    },
    {
     "name": "stdout",
     "output_type": "stream",
     "text": [
      "Epoch [8/10] - Avg Loss: 0.0478\n",
      "Epoch [8/10] - Accuracy on Test Data: 0.9388\n"
     ]
    },
    {
     "name": "stderr",
     "output_type": "stream",
     "text": [
      "Epoch 9/10: 100%|██████████| 1804/1804 [14:35<00:00,  2.06batch/s, Avg Loss=0.0358]\n"
     ]
    },
    {
     "name": "stdout",
     "output_type": "stream",
     "text": [
      "Epoch [9/10] - Avg Loss: 0.0358\n",
      "Epoch [9/10] - Accuracy on Test Data: 0.9395\n"
     ]
    },
    {
     "name": "stderr",
     "output_type": "stream",
     "text": [
      "Epoch 10/10: 100%|██████████| 1804/1804 [14:35<00:00,  2.06batch/s, Avg Loss=0.0409]\n"
     ]
    },
    {
     "name": "stdout",
     "output_type": "stream",
     "text": [
      "Epoch [10/10] - Avg Loss: 0.0409\n",
      "Epoch [10/10] - Accuracy on Test Data: 0.9417\n"
     ]
    },
    {
     "data": {
      "image/png": "[encoded data removed]",
      "text/plain": [
       "<Figure size 1200x500 with 2 Axes>"
      ]
     },
     "metadata": {},
     "output_type": "display_data"
    },
    {
     "name": "stderr",
     "output_type": "stream",
     "text": [
      "Evaluating: 100%|██████████| 451/451 [01:02<00:00,  7.23it/s]"
     ]
    },
    {
     "name": "stdout",
     "output_type": "stream",
     "text": [
      "\n",
      "Overall Performance Metrics:\n",
      "\n",
      "              precision    recall  f1-score   support\n",
      "\n",
      "           0       0.88      0.99      0.93       628\n",
      "           1       0.97      0.91      0.94       662\n",
      "           2       0.90      0.96      0.93       636\n",
      "           3       0.97      0.87      0.92       630\n",
      "           4       0.97      0.94      0.95       646\n",
      "           5       0.94      0.99      0.96       678\n",
      "           6       0.97      0.93      0.95       629\n",
      "\n",
      "    accuracy                           0.94      4509\n",
      "   macro avg       0.94      0.94      0.94      4509\n",
      "weighted avg       0.94      0.94      0.94      4509\n",
      "\n",
      "\n",
      "Overall Accuracy: 0.9417\n",
      "\n",
      "\n",
      "Per-Class Performance:\n",
      "\n",
      "Class 0: Accuracy = 0.9889\n",
      "Class 1: Accuracy = 0.9094\n",
      "Class 2: Accuracy = 0.9638\n",
      "Class 3: Accuracy = 0.8698\n",
      "Class 4: Accuracy = 0.9443\n",
      "Class 5: Accuracy = 0.9867\n",
      "Class 6: Accuracy = 0.9269\n"
     ]
    },
    {
     "name": "stderr",
     "output_type": "stream",
     "text": [
      "\n"
     ]
    }
   ],
   "source": [
    "import pandas as pd\n",
    "import torch\n",
    "import torch.nn as nn\n",
    "import matplotlib.pyplot as plt\n",
    "from sklearn.model_selection import train_test_split\n",
    "from torch.utils.data import DataLoader, TensorDataset\n",
    "from tqdm import tqdm\n",
    "from transformers import AutoModelForSequenceClassification, AutoTokenizer\n",
    "from sklearn.metrics import precision_score, recall_score, f1_score, confusion_matrix, classification_report, accuracy_score\n",
    "\n",
    "# Load the model and tokenizer\n",
    "model = AutoModelForSequenceClassification.from_pretrained(\"microsoft/deberta-v3-large\", num_labels=7)\n",
    "tokenizer = AutoTokenizer.from_pretrained(\"microsoft/deberta-v3-large\")\n",
    "\n",
    "# Load dataset\n",
    "df = pd.read_excel('/kaggle/input/isear-dataset/combined dataset.xlsx')\n",
    "\n",
    "# Split dataset\n",
    "Comment_train, Comment_test, Label_train, Label_test = train_test_split(df['content'], df['labels'], test_size=0.2, random_state=18)\n",
    "\n",
    "# Tokenize data\n",
    "encodedata_train = tokenizer.batch_encode_plus(\n",
    "    Comment_train.astype(str).tolist(),\n",
    "    add_special_tokens=True,\n",
    "    return_attention_mask=True,\n",
    "    max_length=100,\n",
    "    return_tensors='pt',\n",
    "    padding='max_length',\n",
    "    truncation=True\n",
    ")\n",
    "\n",
    "encodedata_test = tokenizer.batch_encode_plus(\n",
    "    Comment_test.astype(str).tolist(),\n",
    "    add_special_tokens=True,\n",
    "    return_attention_mask=True,\n",
    "    max_length=100,\n",
    "    return_tensors='pt',\n",
    "    padding='max_length',\n",
    "    truncation=True\n",
    ")\n",
    "\n",
    "# Prepare data for DataLoader\n",
    "input_ids_train = encodedata_train['input_ids']\n",
    "attention_masks_train = encodedata_train['attention_mask']\n",
    "labels_train = torch.tensor(Label_train.to_numpy(), dtype=torch.long)\n",
    "\n",
    "input_ids_test = encodedata_test['input_ids']\n",
    "attention_masks_test = encodedata_test['attention_mask']\n",
    "labels_test = torch.tensor(Label_test.to_numpy(), dtype=torch.long)\n",
    "\n",
    "tensordataset_train = TensorDataset(input_ids_train, attention_masks_train, labels_train)\n",
    "tensordataset_test = TensorDataset(input_ids_test, attention_masks_test, labels_test)\n",
    "\n",
    "train_loader = DataLoader(tensordataset_train, batch_size=10, shuffle=True)\n",
    "test_loader = DataLoader(tensordataset_test, batch_size=10, shuffle=False)\n",
    "\n",
    "# Define loss function and optimizer\n",
    "loss_ftn = nn.CrossEntropyLoss()\n",
    "optimizer = torch.optim.Adam(model.parameters(), lr=1e-5)\n",
    "\n",
    "# Move the model to GPU if available\n",
    "device = torch.device(\"cuda\" if torch.cuda.is_available() else \"cpu\")\n",
    "model.to(device)\n",
    "\n",
    "# Define number of epochs\n",
    "num_epochs = 10\n",
    "\n",
    "# Lists for storing training loss and accuracy per epoch\n",
    "train_losses = []\n",
    "test_accuracies = []\n",
    "\n",
    "# Training and evaluation loop\n",
    "for epoch in range(num_epochs):\n",
    "    model.train()\n",
    "    total_loss = 0.0\n",
    "\n",
    "    # Training\n",
    "    progress_bar = tqdm(train_loader, desc=f'Epoch {epoch + 1}/{num_epochs}', unit='batch')\n",
    "    for batch in progress_bar:\n",
    "        batch = tuple(t.to(device) for t in batch)\n",
    "        input_ids, attention_masks, labels = batch\n",
    "        optimizer.zero_grad()\n",
    "        outputs = model(input_ids, attention_mask=attention_masks, labels=labels)\n",
    "        loss = outputs['loss']\n",
    "        loss.backward()\n",
    "        optimizer.step()\n",
    "\n",
    "        total_loss += loss.item()\n",
    "        avg_loss = total_loss / (progress_bar.n + 1)\n",
    "        progress_bar.set_postfix({'Avg Loss': avg_loss})\n",
    "\n",
    "    train_losses.append(avg_loss)\n",
    "    print(f\"Epoch [{epoch + 1}/{num_epochs}] - Avg Loss: {avg_loss:.4f}\")\n",
    "\n",
    "    # Evaluation\n",
    "    model.eval()\n",
    "    total_correct = 0\n",
    "    total_samples = 0\n",
    "    all_preds = []\n",
    "    all_labels = []\n",
    "\n",
    "    with torch.no_grad():\n",
    "        for batch in test_loader:\n",
    "            input_ids, attention_masks, labels = batch\n",
    "            input_ids, attention_masks, labels = input_ids.to(device), attention_masks.to(device), labels.to(device)\n",
    "            outputs = model(input_ids, attention_mask=attention_masks)\n",
    "            _, predicted = torch.max(outputs['logits'], 1)\n",
    "\n",
    "            total_correct += (predicted == labels).sum().item()\n",
    "            total_samples += labels.size(0)\n",
    "\n",
    "            all_preds.extend(predicted.cpu().numpy())\n",
    "            all_labels.extend(labels.cpu().numpy())\n",
    "\n",
    "    accuracy = total_correct / total_samples if total_samples > 0 else 0\n",
    "    test_accuracies.append(accuracy)\n",
    "    print(f'Epoch [{epoch + 1}/{num_epochs}] - Accuracy on Test Data: {accuracy:.4f}')\n",
    "\n",
    "# Plotting Loss and Accuracy graphs\n",
    "epochs_range = range(1, num_epochs + 1)\n",
    "\n",
    "plt.figure(figsize=(12, 5))\n",
    "\n",
    "# Loss graph\n",
    "plt.subplot(1, 2, 1)\n",
    "plt.plot(epochs_range, train_losses, label='Training Loss')\n",
    "plt.xlabel('Epochs')\n",
    "plt.ylabel('Loss')\n",
    "plt.title('Training Loss')\n",
    "plt.legend()\n",
    "\n",
    "# Accuracy graph\n",
    "plt.subplot(1, 2, 2)\n",
    "plt.plot(epochs_range, test_accuracies, label='Test Accuracy', color='orange')\n",
    "plt.xlabel('Epochs')\n",
    "plt.ylabel('Accuracy')\n",
    "plt.title('Test Accuracy')\n",
    "plt.legend()\n",
    "\n",
    "plt.tight_layout()\n",
    "plt.show()\n",
    "\n",
    "# Detailed Performance Metrics Evaluation\n",
    "model.eval()  # Set the model to evaluation mode\n",
    "all_preds = []\n",
    "all_labels = []\n",
    "\n",
    "with torch.no_grad():\n",
    "    for batch in tqdm(test_loader, desc=\"Evaluating\"):\n",
    "        input_ids, attention_masks, labels = batch\n",
    "        input_ids, attention_masks, labels = input_ids.to(device), attention_masks.to(device), labels.to(device)\n",
    "\n",
    "        outputs = model(input_ids, attention_mask=attention_masks)\n",
    "        logits = outputs.logits\n",
    "        _, preds = torch.max(logits, dim=1)\n",
    "\n",
    "        all_preds.extend(preds.cpu().numpy())\n",
    "        all_labels.extend(labels.cpu().numpy())\n",
    "\n",
    "# Performance metrics\n",
    "conf_matrix = confusion_matrix(all_labels, all_preds)\n",
    "class_report = classification_report(all_labels, all_preds, labels=list(range(7)), zero_division=1)\n",
    "accuracy = accuracy_score(all_labels, all_preds)\n",
    "\n",
    "print(\"\\nOverall Performance Metrics:\\n\")\n",
    "print(class_report)\n",
    "print(f\"\\nOverall Accuracy: {accuracy:.4f}\\n\")\n",
    "\n",
    "# Per-class performance\n",
    "print(\"\\nPer-Class Performance:\\n\")\n",
    "for i in range(7):  # Adjust number of classes accordingly\n",
    "    class_accuracy = conf_matrix[i, i] / conf_matrix[i, :].sum() if conf_matrix[i, :].sum() > 0 else 0\n",
    "    print(f\"Class {i}: Accuracy = {class_accuracy:.4f}\")"
   ]
  },
  {
   "cell_type": "code",
   "execution_count": null,
   "metadata": {},
   "outputs": [],
   "source": []
  }
 ],
 "metadata": {
  "kaggle": {
   "accelerator": "gpu",
   "dataSources": [
    {
     "datasetId": 5692246,
     "sourceId": 9382721,
     "sourceType": "datasetVersion"
    }
   ],
   "dockerImageVersionId": 30762,
   "isGpuEnabled": true,
   "isInternetEnabled": true,
   "language": "python",
   "sourceType": "notebook"
  },
  "kernelspec": {
   "display_name": "Python 3",
   "language": "python",
   "name": "python3"
  },
  "language_info": {
   "codemirror_mode": {
    "name": "ipython",
    "version": 3
   },
   "file_extension": ".py",
   "mimetype": "text/x-python",
   "name": "python",
   "nbconvert_exporter": "python",
   "pygments_lexer": "ipython3",
   "version": "3.10.14"
  }
 },
 "nbformat": 4,
 "nbformat_minor": 4
}
